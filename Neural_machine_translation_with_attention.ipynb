{
 "cells": [
  {
   "cell_type": "markdown",
   "metadata": {},
   "source": [
    "# Attention Mechanism for Neural Machine Translation\n",
    "\n",
    "**Objective:**\n",
    "Building a Neural Machine Translation (NMT) model to translate human readable dates (\"25th of June, 2009\") into machine readable dates (\"2009-06-25\"). We will do this using an attention model, one of the most sophisticated sequence to sequence models. \n",
    "\n",
    "This notebook was produced together with NVIDIA's Deep Learning Institute. \n",
    "\n"
   ]
  },
  {
   "cell_type": "code",
   "execution_count": 136,
   "metadata": {
    "collapsed": true
   },
   "outputs": [],
   "source": [
    "from keras.layers import Bidirectional, Concatenate, Permute, Dot, Input, LSTM, Multiply\n",
    "from keras.layers import RepeatVector, Dense, Activation, Lambda\n",
    "from keras.optimizers import Adam\n",
    "from keras.utils import to_categorical\n",
    "from keras.models import load_model, Model\n",
    "import keras.backend as K\n",
    "import numpy as np\n",
    "\n",
    "from faker import Faker\n",
    "import random\n",
    "from tqdm import tqdm\n",
    "from babel.dates import format_date\n",
    "from nmt_utils import *\n",
    "import matplotlib.pyplot as plt\n",
    "%matplotlib inline"
   ]
  },
  {
   "cell_type": "markdown",
   "metadata": {},
   "source": [
    "## 1 - Translating human readable dates into machine readable dates\n",
    "\n",
    "The model you will build here could be used to translate from one language to another, such as translating from English to Hindi. However, language translation requires massive datasets and usually takes days of training on GPUs. To give you a place to experiment with these models even without using massive datasets, we will instead use a simpler \"date translation\" task. \n",
    "\n",
    "The network will input a date written in a variety of possible formats (*e.g. \"the 29th of August 1958\", \"03/30/1968\", \"24 JUNE 1987\"*) and translate them into standardized, machine readable dates (*e.g. \"1958-08-29\", \"1968-03-30\", \"1987-06-24\"*). We will have the network learn to output dates in the common machine-readable format YYYY-MM-DD. \n",
    "\n",
    "\n",
    "\n",
    "<!-- \n",
    "Take a look at [nmt_utils.py](./nmt_utils.py) to see all the formatting. Count and figure out how the formats work, you will need this knowledge later. !--> "
   ]
  },
  {
   "cell_type": "markdown",
   "metadata": {},
   "source": [
    "### 1.1 - Dataset\n",
    "\n",
    "We will train the model on a dataset of 10000 human readable dates and their equivalent, standardized, machine readable dates. Let's run the following cells to load the dataset and print some examples. "
   ]
  },
  {
   "cell_type": "code",
   "execution_count": 137,
   "metadata": {},
   "outputs": [
    {
     "name": "stderr",
     "output_type": "stream",
     "text": [
      "100%|██████████| 10000/10000 [00:01<00:00, 5006.20it/s]\n"
     ]
    }
   ],
   "source": [
    "m = 10000\n",
    "dataset, human_vocab, machine_vocab, inv_machine_vocab = load_dataset(m)"
   ]
  },
  {
   "cell_type": "code",
   "execution_count": 138,
   "metadata": {},
   "outputs": [
    {
     "data": {
      "text/plain": [
       "[('28 oct 1992', '1992-10-28'),\n",
       " ('monday november 21 1983', '1983-11-21'),\n",
       " ('sunday october 3 1993', '1993-10-03'),\n",
       " ('thursday march 28 2013', '2013-03-28'),\n",
       " ('wednesday january 18 1995', '1995-01-18'),\n",
       " ('sunday july 9 1995', '1995-07-09'),\n",
       " ('may 22 1990', '1990-05-22'),\n",
       " ('sunday july 8 2001', '2001-07-08'),\n",
       " ('august 16 2004', '2004-08-16'),\n",
       " ('friday august 10 2012', '2012-08-10')]"
      ]
     },
     "execution_count": 138,
     "metadata": {},
     "output_type": "execute_result"
    }
   ],
   "source": [
    "dataset[:10]"
   ]
  },
  {
   "cell_type": "markdown",
   "metadata": {},
   "source": [
    "You've loaded:\n",
    "- `dataset`: a list of tuples of (human readable date, machine readable date)\n",
    "- `human_vocab`: a python dictionary mapping all characters used in the human readable dates to an integer-valued index \n",
    "- `machine_vocab`: a python dictionary mapping all characters used in machine readable dates to an integer-valued index. These indices are not necessarily consistent with `human_vocab`. \n",
    "- `inv_machine_vocab`: the inverse dictionary of `machine_vocab`, mapping from indices back to characters. \n",
    "\n",
    "Let's preprocess the data and map the raw text data into the index values. We will also use Tx=30 (which we assume is the maximum length of the human readable date; if we get a longer input, we would have to truncate it) and Ty=10 (since \"YYYY-MM-DD\" is 10 characters long). "
   ]
  },
  {
   "cell_type": "code",
   "execution_count": 139,
   "metadata": {},
   "outputs": [
    {
     "name": "stdout",
     "output_type": "stream",
     "text": [
      "X.shape: (10000, 30)\n",
      "Y.shape: (10000, 10)\n",
      "Xoh.shape: (10000, 30, 37)\n",
      "Yoh.shape: (10000, 10, 11)\n"
     ]
    }
   ],
   "source": [
    "Tx = 30\n",
    "Ty = 10\n",
    "X, Y, Xoh, Yoh = preprocess_data(dataset, human_vocab, machine_vocab, Tx, Ty)\n",
    "\n",
    "print(\"X.shape:\", X.shape)\n",
    "print(\"Y.shape:\", Y.shape)\n",
    "print(\"Xoh.shape:\", Xoh.shape)\n",
    "print(\"Yoh.shape:\", Yoh.shape)"
   ]
  },
  {
   "cell_type": "markdown",
   "metadata": {},
   "source": [
    "You now have:\n",
    "- `X`: a processed version of the human readable dates in the training set, where each character is replaced by an index mapped to the character via `human_vocab`. Each date is further padded to $T_x$ values with a special character (< pad >). `X.shape = (m, Tx)`\n",
    "- `Y`: a processed version of the machine readable dates in the training set, where each character is replaced by the index it is mapped to in `machine_vocab`. You should have `Y.shape = (m, Ty)`. \n",
    "- `Xoh`: one-hot version of `X`, the \"1\" entry's index is mapped to the character thanks to `human_vocab`. `Xoh.shape = (m, Tx, len(human_vocab))`\n",
    "- `Yoh`: one-hot version of `Y`, the \"1\" entry's index is mapped to the character thanks to `machine_vocab`. `Yoh.shape = (m, Tx, len(machine_vocab))`. Here, `len(machine_vocab) = 11` since there are 11 characters ('-' as well as 0-9). \n"
   ]
  },
  {
   "cell_type": "markdown",
   "metadata": {},
   "source": [
    "Lets also look at some examples of preprocessed training examples. Feel free to play with `index` in the cell below to navigate the dataset and see how source/target dates are preprocessed. "
   ]
  },
  {
   "cell_type": "code",
   "execution_count": 140,
   "metadata": {},
   "outputs": [
    {
     "name": "stdout",
     "output_type": "stream",
     "text": [
      "Source date: 28 oct 1992\n",
      "Target date: 1992-10-28\n",
      "\n",
      "Source after preprocessing (indices): [ 5 11  0 26 15 30  0  4 12 12  5 36 36 36 36 36 36 36 36 36 36 36 36 36 36\n",
      " 36 36 36 36 36]\n",
      "Target after preprocessing (indices): [ 2 10 10  3  0  2  1  0  3  9]\n",
      "\n",
      "Source after preprocessing (one-hot): [[ 0.  0.  0. ...,  0.  0.  0.]\n",
      " [ 0.  0.  0. ...,  0.  0.  0.]\n",
      " [ 1.  0.  0. ...,  0.  0.  0.]\n",
      " ..., \n",
      " [ 0.  0.  0. ...,  0.  0.  1.]\n",
      " [ 0.  0.  0. ...,  0.  0.  1.]\n",
      " [ 0.  0.  0. ...,  0.  0.  1.]]\n",
      "Target after preprocessing (one-hot): [[ 0.  0.  1.  0.  0.  0.  0.  0.  0.  0.  0.]\n",
      " [ 0.  0.  0.  0.  0.  0.  0.  0.  0.  0.  1.]\n",
      " [ 0.  0.  0.  0.  0.  0.  0.  0.  0.  0.  1.]\n",
      " [ 0.  0.  0.  1.  0.  0.  0.  0.  0.  0.  0.]\n",
      " [ 1.  0.  0.  0.  0.  0.  0.  0.  0.  0.  0.]\n",
      " [ 0.  0.  1.  0.  0.  0.  0.  0.  0.  0.  0.]\n",
      " [ 0.  1.  0.  0.  0.  0.  0.  0.  0.  0.  0.]\n",
      " [ 1.  0.  0.  0.  0.  0.  0.  0.  0.  0.  0.]\n",
      " [ 0.  0.  0.  1.  0.  0.  0.  0.  0.  0.  0.]\n",
      " [ 0.  0.  0.  0.  0.  0.  0.  0.  0.  1.  0.]]\n"
     ]
    }
   ],
   "source": [
    "index = 0\n",
    "print(\"Source date:\", dataset[index][0])\n",
    "print(\"Target date:\", dataset[index][1])\n",
    "print()\n",
    "print(\"Source after preprocessing (indices):\", X[index])\n",
    "print(\"Target after preprocessing (indices):\", Y[index])\n",
    "print()\n",
    "print(\"Source after preprocessing (one-hot):\", Xoh[index])\n",
    "print(\"Target after preprocessing (one-hot):\", Yoh[index])"
   ]
  },
  {
   "cell_type": "markdown",
   "metadata": {},
   "source": [
    "## 2 - Neural machine translation with attention\n",
    "\n",
    "If you had to translate a book's paragraph from French to English, you would not read the whole paragraph, then close the book and translate. Even during the translation process, you would read/re-read and focus on the parts of the French paragraph corresponding to the parts of the English you are writing down. \n",
    "\n",
    "The attention mechanism tells a Neural Machine Translation model where it should pay attention to at any step. \n",
    "\n",
    "\n",
    "### 2.1 - Attention mechanism\n",
    "\n",
    "In this part, you will implement the attention mechanism presented in the lecture videos. Here is a figure to remind you how the model works. The diagram on the left shows the attention model. The diagram on the right shows what one \"Attention\" step does to calculate the attention variables $\\alpha^{\\langle t, t' \\rangle}$, which are used to compute the context variable $context^{\\langle t \\rangle}$ for each timestep in the output ($t=1, \\ldots, T_y$). \n",
    "\n",
    "<table>\n",
    "<td> \n",
    "<img src=\"images/attn_model.png\" style=\"width:500;height:500px;\"> <br>\n",
    "</td> \n",
    "<td> \n",
    "<img src=\"images/attn_mechanism.png\" style=\"width:500;height:500px;\"> <br>\n",
    "</td> \n",
    "</table>\n",
    "<caption><center> **Figure 1**: Neural machine translation with attention</center></caption>\n"
   ]
  },
  {
   "cell_type": "markdown",
   "metadata": {},
   "source": [
    "\n",
    "Here are some properties of the model that you may notice: \n",
    "\n",
    "- There are two separate LSTMs in this model (see diagram on the left). Because the one at the bottom of the picture is a Bi-directional LSTM and comes *before* the attention mechanism, we will call it *pre-attention* Bi-LSTM. The LSTM at the top of the diagram comes *after* the attention mechanism, so we will call it the *post-attention* LSTM. The pre-attention Bi-LSTM goes through $T_x$ time steps; the post-attention LSTM goes through $T_y$ time steps. \n",
    "\n",
    "- The post-attention LSTM passes $s^{\\langle t \\rangle}, c^{\\langle t \\rangle}$ from one time step to the next. In the lecture videos, we were using only a basic RNN for the post-activation sequence model, so the state captured by the RNN output activations $s^{\\langle t\\rangle}$. But since we are using an LSTM here, the LSTM has both the output activation $s^{\\langle t\\rangle}$ and the hidden cell state $c^{\\langle t\\rangle}$. However, unlike previous text generation examples (such as Dinosaurus in week 1), in this model the post-activation LSTM at time $t$ does will not take the specific generated $y^{\\langle t-1 \\rangle}$ as input; it only takes $s^{\\langle t\\rangle}$ and $c^{\\langle t\\rangle}$ as input. We have designed the model this way, because (unlike language generation where adjacent characters are highly correlated) there isn't as strong a dependency between the previous character and the next character in a YYYY-MM-DD date. \n",
    "\n",
    "- We use $a^{\\langle t \\rangle} = [\\overrightarrow{a}^{\\langle t \\rangle}; \\overleftarrow{a}^{\\langle t \\rangle}]$ to represent the concatenation of the activations of both the forward-direction and backward-directions of the pre-attention Bi-LSTM. \n",
    "\n",
    "- The diagram on the right uses a `RepeatVector` node to copy $s^{\\langle t-1 \\rangle}$'s value $T_x$ times, and then `Concatenation` to concatenate $s^{\\langle t-1 \\rangle}$ and $a^{\\langle t \\rangle}$ to compute $e^{\\langle t, t'}$, which is then passed through a softmax to compute $\\alpha^{\\langle t, t' \\rangle}$. We'll explain how to use `RepeatVector` and `Concatenation` in Keras below. \n",
    "\n",
    "Lets implement this model. You will start by implementing two functions: `one_step_attention()` and `model()`.\n",
    "\n",
    "**1) `one_step_attention()`**: At step $t$, given all the hidden states of the Bi-LSTM ($[a^{<1>},a^{<2>}, ..., a^{<T_x>}]$) and the previous hidden state of the second LSTM ($s^{<t-1>}$), `one_step_attention()` will compute the attention weights ($[\\alpha^{<t,1>},\\alpha^{<t,2>}, ..., \\alpha^{<t,T_x>}]$) and output the context vector (see Figure  1 (right) for details):\n",
    "$$context^{<t>} = \\sum_{t' = 0}^{T_x} \\alpha^{<t,t'>}a^{<t'>}\\tag{1}$$ \n",
    "\n",
    "Note that we are denoting the attention in this notebook $context^{\\langle t \\rangle}$. In the lecture videos, the context was denoted $c^{\\langle t \\rangle}$, but here we are calling it $context^{\\langle t \\rangle}$ to avoid confusion with the (post-attention) LSTM's internal memory cell variable, which is sometimes also denoted $c^{\\langle t \\rangle}$. \n",
    "  \n",
    "**2) `model()`**: Implements the entire model. It first runs the input through a Bi-LSTM to get back $[a^{<1>},a^{<2>}, ..., a^{<T_x>}]$. Then, it calls `one_step_attention()` $T_y$ times (`for` loop). At each iteration of this loop, it gives the computed context vector $c^{<t>}$ to the second LSTM, and runs the output of the LSTM through a dense layer with softmax activation to generate a prediction $\\hat{y}^{<t>}$. \n",
    "\n",
    "\n",
    "\n",
    "**Exercise**: Implement `one_step_attention()`. The function `model()` will call the layers in `one_step_attention()` $T_y$ using a for-loop, and it is important that all $T_y$ copies have the same weights. I.e., it should not re-initiaiize the weights every time. In other words, all $T_y$ steps should have shared weights. Here's how you can implement layers with shareable weights in Keras:\n",
    "1. Define the layer objects (as global variables for examples).\n",
    "2. Call these objects when propagating the input.\n",
    "\n",
    "We have defined the layers you need as global variables. Please run the following cells to create them. Please check the Keras documentation to make sure you understand what these layers are: [RepeatVector()](https://keras.io/layers/core/#repeatvector), [Concatenate()](https://keras.io/layers/merge/#concatenate), [Dense()](https://keras.io/layers/core/#dense), [Activation()](https://keras.io/layers/core/#activation), [Dot()](https://keras.io/layers/merge/#dot)."
   ]
  },
  {
   "cell_type": "code",
   "execution_count": 141,
   "metadata": {
    "collapsed": true
   },
   "outputs": [],
   "source": [
    "# Defined shared layers as global variables\n",
    "repeator = RepeatVector(Tx)\n",
    "concatenator = Concatenate(axis=-1)\n",
    "densor1 = Dense(10, activation = \"tanh\")\n",
    "densor2 = Dense(1, activation = \"relu\")\n",
    "activator = Activation(softmax, name='attention_weights') # We are using a custom softmax(axis = 1) loaded in this notebook\n",
    "dotor = Dot(axes = 1)"
   ]
  },
  {
   "cell_type": "markdown",
   "metadata": {},
   "source": [
    "Now you can use these layers to implement `one_step_attention()`. In order to propagate a Keras tensor object X through one of these layers, use `layer(X)` (or `layer([X,Y])` if it requires multiple inputs.), e.g. `densor(X)` will propagate X through the `Dense(1)` layer defined above."
   ]
  },
  {
   "cell_type": "code",
   "execution_count": 142,
   "metadata": {
    "collapsed": true
   },
   "outputs": [],
   "source": [
    "# GRADED FUNCTION: one_step_attention\n",
    "\n",
    "def one_step_attention(a, s_prev):\n",
    "    \"\"\"\n",
    "    Performs one step of attention: Outputs a context vector computed as a dot product of the attention weights\n",
    "    \"alphas\" and the hidden states \"a\" of the Bi-LSTM.\n",
    "    \n",
    "    Arguments:\n",
    "    a -- hidden state output of the Bi-LSTM, numpy-array of shape (m, Tx, 2*n_a)\n",
    "    s_prev -- previous hidden state of the (post-attention) LSTM, numpy-array of shape (m, n_s)\n",
    "    \n",
    "    Returns:\n",
    "    context -- context vector, input of the next (post-attetion) LSTM cell\n",
    "    \"\"\"\n",
    "    \n",
    "    ### START CODE HERE ###\n",
    "    # Use repeator to repeat s_prev to be of shape (m, Tx, n_s) so that you can concatenate it with all hidden states \"a\" (≈ 1 line)\n",
    "    s_prev = repeator(s_prev)\n",
    "    # Use concatenator to concatenate a and s_prev on the last axis (≈ 1 line)\n",
    "    concat = concatenator([a, s_prev])\n",
    "    # Use densor1 to propagate concat through a small fully-connected neural network to compute the \"intermediate energies\" variable e. (≈1 lines)\n",
    "    e = densor1(concat)\n",
    "    # Use densor2 to propagate e through a small fully-connected neural network to compute the \"energies\" variable energies. (≈1 lines)\n",
    "    energies = densor2(e)\n",
    "    # Use \"activator\" on \"energies\" to compute the attention weights \"alphas\" (≈ 1 line)\n",
    "    alphas = activator(energies)\n",
    "    # Use dotor together with \"alphas\" and \"a\" to compute the context vector to be given to the next (post-attention) LSTM-cell (≈ 1 line)\n",
    "    context = dotor([alphas, a])\n",
    "    ### END CODE HERE ###\n",
    "    \n",
    "    return context"
   ]
  },
  {
   "cell_type": "markdown",
   "metadata": {},
   "source": [
    "You will be able to check the expected output of `one_step_attention()` after you've coded the `model()` function."
   ]
  },
  {
   "cell_type": "markdown",
   "metadata": {},
   "source": [
    "**Exercise**: Implement `model()` as explained in figure 2 and the text above. Again, we have defined global layers that will share weights to be used in `model()`."
   ]
  },
  {
   "cell_type": "code",
   "execution_count": 143,
   "metadata": {
    "collapsed": true
   },
   "outputs": [],
   "source": [
    "n_a = 64\n",
    "n_s = 128\n",
    "post_activation_LSTM_cell = LSTM(n_s, return_state = True)\n",
    "output_layer = Dense(len(machine_vocab), activation=softmax)"
   ]
  },
  {
   "cell_type": "markdown",
   "metadata": {},
   "source": [
    "Now you can use these layers $T_y$ times in a `for` loop to generate the outputs, and their parameters will not be reinitialized. You will have to carry out the following steps: \n",
    "\n",
    "1. Propagate the input into a [Bidirectional](https://keras.io/layers/wrappers/#bidirectional) [LSTM](https://keras.io/layers/recurrent/#lstm)\n",
    "2. Iterate for $t = 0, \\dots, T_y-1$: \n",
    "    1. Call `one_step_attention()` on $[\\alpha^{<t,1>},\\alpha^{<t,2>}, ..., \\alpha^{<t,T_x>}]$ and $s^{<t-1>}$ to get the context vector $context^{<t>}$.\n",
    "    2. Give $context^{<t>}$ to the post-attention LSTM cell. Remember pass in the previous hidden-state $s^{\\langle t-1\\rangle}$ and cell-states $c^{\\langle t-1\\rangle}$ of this LSTM using `initial_state= [previous hidden state, previous cell state]`. Get back the new hidden state $s^{<t>}$ and the new cell state $c^{<t>}$.\n",
    "    3. Apply a softmax layer to $s^{<t>}$, get the output. \n",
    "    4. Save the output by adding it to the list of outputs.\n",
    "\n",
    "3. Create your Keras model instance, it should have three inputs (\"inputs\", $s^{<0>}$ and $c^{<0>}$) and output the list of \"outputs\"."
   ]
  },
  {
   "cell_type": "code",
   "execution_count": 144,
   "metadata": {
    "collapsed": true
   },
   "outputs": [],
   "source": [
    "# GRADED FUNCTION: model\n",
    "\n",
    "def model(Tx, Ty, n_a, n_s, human_vocab_size, machine_vocab_size):\n",
    "    \"\"\"\n",
    "    Arguments:\n",
    "    Tx -- length of the input sequence\n",
    "    Ty -- length of the output sequence\n",
    "    n_a -- hidden state size of the Bi-LSTM\n",
    "    n_s -- hidden state size of the post-attention LSTM\n",
    "    human_vocab_size -- size of the python dictionary \"human_vocab\"\n",
    "    machine_vocab_size -- size of the python dictionary \"machine_vocab\"\n",
    "\n",
    "    Returns:\n",
    "    model -- Keras model instance\n",
    "    \"\"\"\n",
    "    \n",
    "    # Define the inputs of your model with a shape (Tx,)\n",
    "    # Define s0 and c0, initial hidden state for the decoder LSTM of shape (n_s,)\n",
    "    X = Input(shape=(Tx, human_vocab_size))\n",
    "    s0 = Input(shape=(n_s,), name='s0')\n",
    "    c0 = Input(shape=(n_s,), name='c0')\n",
    "    s = s0\n",
    "    c = c0\n",
    "    \n",
    "    # Initialize empty list of outputs\n",
    "    outputs = []\n",
    "    \n",
    "    ### START CODE HERE ###\n",
    "    \n",
    "    # Step 1: Define your pre-attention Bi-LSTM. Remember to use return_sequences=True. (≈ 1 line)\n",
    "    a = Bidirectional(LSTM(n_a, return_sequences=True))(X)\n",
    "                        \n",
    "    \n",
    "    # Step 2: Iterate for Ty steps\n",
    "    for t in range(Ty):\n",
    "    \n",
    "        # Step 2.A: Perform one step of the attention mechanism to get back the context vector at step t (≈ 1 line)\n",
    "        context = one_step_attention(a, s)\n",
    "        \n",
    "        # Step 2.B: Apply the post-attention LSTM cell to the \"context\" vector.\n",
    "        # Don't forget to pass: initial_state = [hidden state, cell state] (≈ 1 line)\n",
    "        s, _, c = post_activation_LSTM_cell(context, initial_state=[s0,c0])\n",
    "        \n",
    "        # Step 2.C: Apply Dense layer to the hidden state output of the post-attention LSTM (≈ 1 line)\n",
    "        out = output_layer(s)\n",
    "        \n",
    "        # Step 2.D: Append \"out\" to the \"outputs\" list (≈ 1 line)\n",
    "        outputs.append(out)\n",
    "    \n",
    "    # Step 3: Create model instance taking three inputs and returning the list of outputs. (≈ 1 line)\n",
    "    model = Model([X, s0, c0], outputs=outputs)\n",
    "    \n",
    "    ### END CODE HERE ###\n",
    "    \n",
    "    return model"
   ]
  },
  {
   "cell_type": "markdown",
   "metadata": {},
   "source": [
    "Run the following cell to create your model."
   ]
  },
  {
   "cell_type": "code",
   "execution_count": 145,
   "metadata": {
    "collapsed": true
   },
   "outputs": [],
   "source": [
    "model = model(Tx, Ty, n_a, n_s, len(human_vocab), len(machine_vocab))"
   ]
  },
  {
   "cell_type": "markdown",
   "metadata": {},
   "source": [
    "Let's get a summary of the model to check if it matches the expected output."
   ]
  },
  {
   "cell_type": "code",
   "execution_count": 146,
   "metadata": {},
   "outputs": [
    {
     "name": "stdout",
     "output_type": "stream",
     "text": [
      "____________________________________________________________________________________________________\n",
      "Layer (type)                     Output Shape          Param #     Connected to                     \n",
      "====================================================================================================\n",
      "input_11 (InputLayer)            (None, 30, 37)        0                                            \n",
      "____________________________________________________________________________________________________\n",
      "s0 (InputLayer)                  (None, 128)           0                                            \n",
      "____________________________________________________________________________________________________\n",
      "bidirectional_11 (Bidirectional) (None, 30, 128)       52224       input_11[0][0]                   \n",
      "____________________________________________________________________________________________________\n",
      "repeat_vector_8 (RepeatVector)   (None, 30, 128)       0           s0[0][0]                         \n",
      "                                                                   lstm_22[0][0]                    \n",
      "                                                                   lstm_22[1][0]                    \n",
      "                                                                   lstm_22[2][0]                    \n",
      "                                                                   lstm_22[3][0]                    \n",
      "                                                                   lstm_22[4][0]                    \n",
      "                                                                   lstm_22[5][0]                    \n",
      "                                                                   lstm_22[6][0]                    \n",
      "                                                                   lstm_22[7][0]                    \n",
      "                                                                   lstm_22[8][0]                    \n",
      "____________________________________________________________________________________________________\n",
      "concatenate_8 (Concatenate)      (None, 30, 256)       0           bidirectional_11[0][0]           \n",
      "                                                                   repeat_vector_8[0][0]            \n",
      "                                                                   bidirectional_11[0][0]           \n",
      "                                                                   repeat_vector_8[1][0]            \n",
      "                                                                   bidirectional_11[0][0]           \n",
      "                                                                   repeat_vector_8[2][0]            \n",
      "                                                                   bidirectional_11[0][0]           \n",
      "                                                                   repeat_vector_8[3][0]            \n",
      "                                                                   bidirectional_11[0][0]           \n",
      "                                                                   repeat_vector_8[4][0]            \n",
      "                                                                   bidirectional_11[0][0]           \n",
      "                                                                   repeat_vector_8[5][0]            \n",
      "                                                                   bidirectional_11[0][0]           \n",
      "                                                                   repeat_vector_8[6][0]            \n",
      "                                                                   bidirectional_11[0][0]           \n",
      "                                                                   repeat_vector_8[7][0]            \n",
      "                                                                   bidirectional_11[0][0]           \n",
      "                                                                   repeat_vector_8[8][0]            \n",
      "                                                                   bidirectional_11[0][0]           \n",
      "                                                                   repeat_vector_8[9][0]            \n",
      "____________________________________________________________________________________________________\n",
      "dense_26 (Dense)                 (None, 30, 10)        2570        concatenate_8[0][0]              \n",
      "                                                                   concatenate_8[1][0]              \n",
      "                                                                   concatenate_8[2][0]              \n",
      "                                                                   concatenate_8[3][0]              \n",
      "                                                                   concatenate_8[4][0]              \n",
      "                                                                   concatenate_8[5][0]              \n",
      "                                                                   concatenate_8[6][0]              \n",
      "                                                                   concatenate_8[7][0]              \n",
      "                                                                   concatenate_8[8][0]              \n",
      "                                                                   concatenate_8[9][0]              \n",
      "____________________________________________________________________________________________________\n",
      "dense_27 (Dense)                 (None, 30, 1)         11          dense_26[0][0]                   \n",
      "                                                                   dense_26[1][0]                   \n",
      "                                                                   dense_26[2][0]                   \n",
      "                                                                   dense_26[3][0]                   \n",
      "                                                                   dense_26[4][0]                   \n",
      "                                                                   dense_26[5][0]                   \n",
      "                                                                   dense_26[6][0]                   \n",
      "                                                                   dense_26[7][0]                   \n",
      "                                                                   dense_26[8][0]                   \n",
      "                                                                   dense_26[9][0]                   \n",
      "____________________________________________________________________________________________________\n",
      "attention_weights (Activation)   (None, 30, 1)         0           dense_27[0][0]                   \n",
      "                                                                   dense_27[1][0]                   \n",
      "                                                                   dense_27[2][0]                   \n",
      "                                                                   dense_27[3][0]                   \n",
      "                                                                   dense_27[4][0]                   \n",
      "                                                                   dense_27[5][0]                   \n",
      "                                                                   dense_27[6][0]                   \n",
      "                                                                   dense_27[7][0]                   \n",
      "                                                                   dense_27[8][0]                   \n",
      "                                                                   dense_27[9][0]                   \n",
      "____________________________________________________________________________________________________\n",
      "dot_8 (Dot)                      (None, 1, 128)        0           attention_weights[0][0]          \n",
      "                                                                   bidirectional_11[0][0]           \n",
      "                                                                   attention_weights[1][0]          \n",
      "                                                                   bidirectional_11[0][0]           \n",
      "                                                                   attention_weights[2][0]          \n",
      "                                                                   bidirectional_11[0][0]           \n",
      "                                                                   attention_weights[3][0]          \n",
      "                                                                   bidirectional_11[0][0]           \n",
      "                                                                   attention_weights[4][0]          \n",
      "                                                                   bidirectional_11[0][0]           \n",
      "                                                                   attention_weights[5][0]          \n",
      "                                                                   bidirectional_11[0][0]           \n",
      "                                                                   attention_weights[6][0]          \n",
      "                                                                   bidirectional_11[0][0]           \n",
      "                                                                   attention_weights[7][0]          \n",
      "                                                                   bidirectional_11[0][0]           \n",
      "                                                                   attention_weights[8][0]          \n",
      "                                                                   bidirectional_11[0][0]           \n",
      "                                                                   attention_weights[9][0]          \n",
      "                                                                   bidirectional_11[0][0]           \n",
      "____________________________________________________________________________________________________\n",
      "c0 (InputLayer)                  (None, 128)           0                                            \n",
      "____________________________________________________________________________________________________\n",
      "lstm_22 (LSTM)                   [(None, 128), (None,  131584      dot_8[0][0]                      \n",
      "                                                                   s0[0][0]                         \n",
      "                                                                   c0[0][0]                         \n",
      "                                                                   dot_8[1][0]                      \n",
      "                                                                   s0[0][0]                         \n",
      "                                                                   c0[0][0]                         \n",
      "                                                                   dot_8[2][0]                      \n",
      "                                                                   s0[0][0]                         \n",
      "                                                                   c0[0][0]                         \n",
      "                                                                   dot_8[3][0]                      \n",
      "                                                                   s0[0][0]                         \n",
      "                                                                   c0[0][0]                         \n",
      "                                                                   dot_8[4][0]                      \n",
      "                                                                   s0[0][0]                         \n",
      "                                                                   c0[0][0]                         \n",
      "                                                                   dot_8[5][0]                      \n",
      "                                                                   s0[0][0]                         \n",
      "                                                                   c0[0][0]                         \n",
      "                                                                   dot_8[6][0]                      \n",
      "                                                                   s0[0][0]                         \n",
      "                                                                   c0[0][0]                         \n",
      "                                                                   dot_8[7][0]                      \n",
      "                                                                   s0[0][0]                         \n",
      "                                                                   c0[0][0]                         \n",
      "                                                                   dot_8[8][0]                      \n",
      "                                                                   s0[0][0]                         \n",
      "                                                                   c0[0][0]                         \n",
      "                                                                   dot_8[9][0]                      \n",
      "                                                                   s0[0][0]                         \n",
      "                                                                   c0[0][0]                         \n",
      "____________________________________________________________________________________________________\n",
      "dense_28 (Dense)                 (None, 11)            1419        lstm_22[0][0]                    \n",
      "                                                                   lstm_22[1][0]                    \n",
      "                                                                   lstm_22[2][0]                    \n",
      "                                                                   lstm_22[3][0]                    \n",
      "                                                                   lstm_22[4][0]                    \n",
      "                                                                   lstm_22[5][0]                    \n",
      "                                                                   lstm_22[6][0]                    \n",
      "                                                                   lstm_22[7][0]                    \n",
      "                                                                   lstm_22[8][0]                    \n",
      "                                                                   lstm_22[9][0]                    \n",
      "====================================================================================================\n",
      "Total params: 187,808\n",
      "Trainable params: 187,808\n",
      "Non-trainable params: 0\n",
      "____________________________________________________________________________________________________\n"
     ]
    }
   ],
   "source": [
    "model.summary()"
   ]
  },
  {
   "cell_type": "markdown",
   "metadata": {},
   "source": [
    "**Expected Output**:\n",
    "\n",
    "Here is the summary you should see\n",
    "<table>\n",
    "    <tr>\n",
    "        <td>\n",
    "            **Total params:**\n",
    "        </td>\n",
    "        <td>\n",
    "         52,960\n",
    "        </td>\n",
    "    </tr>\n",
    "        <tr>\n",
    "        <td>\n",
    "            **Trainable params:**\n",
    "        </td>\n",
    "        <td>\n",
    "         52,960\n",
    "        </td>\n",
    "    </tr>\n",
    "            <tr>\n",
    "        <td>\n",
    "            **Non-trainable params:**\n",
    "        </td>\n",
    "        <td>\n",
    "         0\n",
    "        </td>\n",
    "    </tr>\n",
    "                    <tr>\n",
    "        <td>\n",
    "            **bidirectional_1's output shape **\n",
    "        </td>\n",
    "        <td>\n",
    "         (None, 30, 64)  \n",
    "        </td>\n",
    "    </tr>\n",
    "    <tr>\n",
    "        <td>\n",
    "            **repeat_vector_1's output shape **\n",
    "        </td>\n",
    "        <td>\n",
    "         (None, 30, 64) \n",
    "        </td>\n",
    "    </tr>\n",
    "                <tr>\n",
    "        <td>\n",
    "            **concatenate_1's output shape **\n",
    "        </td>\n",
    "        <td>\n",
    "         (None, 30, 128) \n",
    "        </td>\n",
    "    </tr>\n",
    "            <tr>\n",
    "        <td>\n",
    "            **attention_weights's output shape **\n",
    "        </td>\n",
    "        <td>\n",
    "         (None, 30, 1)  \n",
    "        </td>\n",
    "    </tr>\n",
    "        <tr>\n",
    "        <td>\n",
    "            **dot_1's output shape **\n",
    "        </td>\n",
    "        <td>\n",
    "         (None, 1, 64)\n",
    "        </td>\n",
    "    </tr>\n",
    "           <tr>\n",
    "        <td>\n",
    "            **dense_3's output shape **\n",
    "        </td>\n",
    "        <td>\n",
    "         (None, 11) \n",
    "        </td>\n",
    "    </tr>\n",
    "</table>\n"
   ]
  },
  {
   "cell_type": "markdown",
   "metadata": {},
   "source": [
    "As usual, after creating your model in Keras, you need to compile it and define what loss, optimizer and metrics your are want to use. Compile your model using `categorical_crossentropy` loss, a custom [Adam](https://keras.io/optimizers/#adam) [optimizer](https://keras.io/optimizers/#usage-of-optimizers) (`learning rate = 0.005`, $\\beta_1 = 0.9$, $\\beta_2 = 0.999$, `decay = 0.01`)  and `['accuracy']` metrics:"
   ]
  },
  {
   "cell_type": "code",
   "execution_count": 147,
   "metadata": {
    "collapsed": true
   },
   "outputs": [],
   "source": [
    "### START CODE HERE ### (≈2 lines)\n",
    "out = model.compile(optimizer=Adam(lr=0.005, beta_1=0.9, beta_2=0.999, decay=0.01),\n",
    "                    metrics=['accuracy'],\n",
    "                    loss='categorical_crossentropy')\n",
    "out\n",
    "### END CODE HERE ###"
   ]
  },
  {
   "cell_type": "markdown",
   "metadata": {},
   "source": [
    "The last step is to define all your inputs and outputs to fit the model:\n",
    "- You already have X of shape $(m = 10000, T_x = 30)$ containing the training examples.\n",
    "- You need to create `s0` and `c0` to initialize your `post_activation_LSTM_cell` with 0s.\n",
    "- Given the `model()` you coded, you need the \"outputs\" to be a list of 11 elements of shape (m, T_y). So that: `outputs[i][0], ..., outputs[i][Ty]` represent the true labels (characters) corresponding to the $i^{th}$ training example (`X[i]`). More generally, `outputs[i][j]` is the true label of the $j^{th}$ character in the $i^{th}$ training example."
   ]
  },
  {
   "cell_type": "code",
   "execution_count": 148,
   "metadata": {
    "collapsed": true
   },
   "outputs": [],
   "source": [
    "s0 = np.zeros((m, n_s))\n",
    "c0 = np.zeros((m, n_s))\n",
    "outputs = list(Yoh.swapaxes(0,1))"
   ]
  },
  {
   "cell_type": "markdown",
   "metadata": {},
   "source": [
    "Let's now fit the model and run it for one epoch."
   ]
  },
  {
   "cell_type": "code",
   "execution_count": 149,
   "metadata": {},
   "outputs": [
    {
     "name": "stdout",
     "output_type": "stream",
     "text": [
      "Epoch 1/10\n",
      "10000/10000 [==============================] - 82s - loss: 20.3480 - dense_28_loss_1: 1.3060 - dense_28_loss_2: 1.7055 - dense_28_loss_3: 2.2316 - dense_28_loss_4: 2.7649 - dense_28_loss_5: 1.6198 - dense_28_loss_6: 1.6937 - dense_28_loss_7: 2.6403 - dense_28_loss_8: 1.6193 - dense_28_loss_9: 2.0223 - dense_28_loss_10: 2.7446 - dense_28_acc_1: 0.4588 - dense_28_acc_2: 0.4014 - dense_28_acc_3: 0.1954 - dense_28_acc_4: 0.0821 - dense_28_acc_5: 0.4004 - dense_28_acc_6: 0.3635 - dense_28_acc_7: 0.0822 - dense_28_acc_8: 0.3994 - dense_28_acc_9: 0.1889 - dense_28_acc_10: 0.0867    \n",
      "Epoch 2/10\n",
      "10000/10000 [==============================] - 73s - loss: 16.8660 - dense_28_loss_1: 0.1737 - dense_28_loss_2: 0.4879 - dense_28_loss_3: 1.7436 - dense_28_loss_4: 2.6837 - dense_28_loss_5: 1.3664 - dense_28_loss_6: 1.5902 - dense_28_loss_7: 2.6693 - dense_28_loss_8: 1.3673 - dense_28_loss_9: 2.0160 - dense_28_loss_10: 2.7680 - dense_28_acc_1: 0.9546 - dense_28_acc_2: 0.9111 - dense_28_acc_3: 0.3851 - dense_28_acc_4: 0.1039 - dense_28_acc_5: 0.6341 - dense_28_acc_6: 0.2909 - dense_28_acc_7: 0.0602 - dense_28_acc_8: 0.6352 - dense_28_acc_9: 0.1251 - dense_28_acc_10: 0.0643    \n",
      "Epoch 3/10\n",
      "10000/10000 [==============================] - 74s - loss: 15.4635 - dense_28_loss_1: 0.0969 - dense_28_loss_2: 0.2324 - dense_28_loss_3: 1.2264 - dense_28_loss_4: 2.5155 - dense_28_loss_5: 1.2303 - dense_28_loss_6: 1.5624 - dense_28_loss_7: 2.6367 - dense_28_loss_8: 1.3025 - dense_28_loss_9: 1.9339 - dense_28_loss_10: 2.7264 - dense_28_acc_1: 0.9725 - dense_28_acc_2: 0.9671 - dense_28_acc_3: 0.5237 - dense_28_acc_4: 0.1380 - dense_28_acc_5: 0.6704 - dense_28_acc_6: 0.2895 - dense_28_acc_7: 0.0819 - dense_28_acc_8: 0.6768 - dense_28_acc_9: 0.1378 - dense_28_acc_10: 0.0671    \n",
      "Epoch 4/10\n",
      "10000/10000 [==============================] - 73s - loss: 13.0094 - dense_28_loss_1: 0.1571 - dense_28_loss_2: 0.1553 - dense_28_loss_3: 1.1283 - dense_28_loss_4: 2.3047 - dense_28_loss_5: 0.6548 - dense_28_loss_6: 1.2257 - dense_28_loss_7: 2.3821 - dense_28_loss_8: 0.7731 - dense_28_loss_9: 1.7032 - dense_28_loss_10: 2.5251 - dense_28_acc_1: 0.9714 - dense_28_acc_2: 0.9716 - dense_28_acc_3: 0.5611 - dense_28_acc_4: 0.1881 - dense_28_acc_5: 0.8621 - dense_28_acc_6: 0.5834 - dense_28_acc_7: 0.1667 - dense_28_acc_8: 0.8319 - dense_28_acc_9: 0.2903 - dense_28_acc_10: 0.1372    \n",
      "Epoch 5/10\n",
      "10000/10000 [==============================] - 70s - loss: 9.8921 - dense_28_loss_1: 0.1488 - dense_28_loss_2: 0.1680 - dense_28_loss_3: 1.0500 - dense_28_loss_4: 2.0453 - dense_28_loss_5: 0.1002 - dense_28_loss_6: 0.7664 - dense_28_loss_7: 2.0341 - dense_28_loss_8: 0.1242 - dense_28_loss_9: 1.2731 - dense_28_loss_10: 2.1820 - dense_28_acc_1: 0.9745 - dense_28_acc_2: 0.9700 - dense_28_acc_3: 0.5504 - dense_28_acc_4: 0.2777 - dense_28_acc_5: 0.9952 - dense_28_acc_6: 0.7487 - dense_28_acc_7: 0.2758 - dense_28_acc_8: 0.9855 - dense_28_acc_9: 0.4484 - dense_28_acc_10: 0.2262    \n",
      "Epoch 6/10\n",
      "10000/10000 [==============================] - 72s - loss: 8.7452 - dense_28_loss_1: 0.0981 - dense_28_loss_2: 0.1131 - dense_28_loss_3: 0.9170 - dense_28_loss_4: 1.8768 - dense_28_loss_5: 0.0380 - dense_28_loss_6: 0.6548 - dense_28_loss_7: 1.8623 - dense_28_loss_8: 0.0356 - dense_28_loss_9: 1.1352 - dense_28_loss_10: 2.0142 - dense_28_acc_1: 0.9785 - dense_28_acc_2: 0.9765 - dense_28_acc_3: 0.6096 - dense_28_acc_4: 0.3226 - dense_28_acc_5: 1.0000 - dense_28_acc_6: 0.7887 - dense_28_acc_7: 0.3350 - dense_28_acc_8: 0.9996 - dense_28_acc_9: 0.4863 - dense_28_acc_10: 0.2654    \n",
      "Epoch 7/10\n",
      "10000/10000 [==============================] - 71s - loss: 8.3646 - dense_28_loss_1: 0.0872 - dense_28_loss_2: 0.0976 - dense_28_loss_3: 0.8809 - dense_28_loss_4: 1.8213 - dense_28_loss_5: 0.0272 - dense_28_loss_6: 0.5937 - dense_28_loss_7: 1.8025 - dense_28_loss_8: 0.0250 - dense_28_loss_9: 1.0858 - dense_28_loss_10: 1.9434 - dense_28_acc_1: 0.9776 - dense_28_acc_2: 0.9762 - dense_28_acc_3: 0.6113 - dense_28_acc_4: 0.3323 - dense_28_acc_5: 1.0000 - dense_28_acc_6: 0.7993 - dense_28_acc_7: 0.3462 - dense_28_acc_8: 0.9997 - dense_28_acc_9: 0.5051 - dense_28_acc_10: 0.2812    \n",
      "Epoch 8/10\n",
      "10000/10000 [==============================] - 75s - loss: 8.0770 - dense_28_loss_1: 0.0770 - dense_28_loss_2: 0.0865 - dense_28_loss_3: 0.8496 - dense_28_loss_4: 1.7748 - dense_28_loss_5: 0.0212 - dense_28_loss_6: 0.5529 - dense_28_loss_7: 1.7556 - dense_28_loss_8: 0.0190 - dense_28_loss_9: 1.0415 - dense_28_loss_10: 1.8990 - dense_28_acc_1: 0.9802 - dense_28_acc_2: 0.9780 - dense_28_acc_3: 0.6222 - dense_28_acc_4: 0.3421 - dense_28_acc_5: 1.0000 - dense_28_acc_6: 0.8123 - dense_28_acc_7: 0.3606 - dense_28_acc_8: 0.9999 - dense_28_acc_9: 0.5311 - dense_28_acc_10: 0.2939    \n",
      "Epoch 9/10\n",
      "10000/10000 [==============================] - 73s - loss: 7.8735 - dense_28_loss_1: 0.0729 - dense_28_loss_2: 0.0800 - dense_28_loss_3: 0.8203 - dense_28_loss_4: 1.7263 - dense_28_loss_5: 0.0182 - dense_28_loss_6: 0.5191 - dense_28_loss_7: 1.7313 - dense_28_loss_8: 0.0166 - dense_28_loss_9: 1.0212 - dense_28_loss_10: 1.8677 - dense_28_acc_1: 0.9806 - dense_28_acc_2: 0.9779 - dense_28_acc_3: 0.6342 - dense_28_acc_4: 0.3624 - dense_28_acc_5: 1.0000 - dense_28_acc_6: 0.8190 - dense_28_acc_7: 0.3666 - dense_28_acc_8: 1.0000 - dense_28_acc_9: 0.5377 - dense_28_acc_10: 0.2977    \n",
      "Epoch 10/10\n",
      "10000/10000 [==============================] - 71s - loss: 7.6633 - dense_28_loss_1: 0.0706 - dense_28_loss_2: 0.0753 - dense_28_loss_3: 0.7774 - dense_28_loss_4: 1.6828 - dense_28_loss_5: 0.0166 - dense_28_loss_6: 0.4958 - dense_28_loss_7: 1.7010 - dense_28_loss_8: 0.0151 - dense_28_loss_9: 0.9971 - dense_28_loss_10: 1.8317 - dense_28_acc_1: 0.9816 - dense_28_acc_2: 0.9782 - dense_28_acc_3: 0.6688 - dense_28_acc_4: 0.3662 - dense_28_acc_5: 1.0000 - dense_28_acc_6: 0.8248 - dense_28_acc_7: 0.3732 - dense_28_acc_8: 1.0000 - dense_28_acc_9: 0.5543 - dense_28_acc_10: 0.3118    \n"
     ]
    },
    {
     "data": {
      "text/plain": [
       "<keras.callbacks.History at 0x7f0837442668>"
      ]
     },
     "execution_count": 149,
     "metadata": {},
     "output_type": "execute_result"
    }
   ],
   "source": [
    "model.fit([Xoh, s0, c0], outputs, epochs=10, batch_size=100)"
   ]
  },
  {
   "cell_type": "markdown",
   "metadata": {},
   "source": [
    "While training you can see the loss as well as the accuracy on each of the 10 positions of the output. The table below gives you an example of what the accuracies could be if the batch had 2 examples: \n",
    "\n",
    "<img src=\"images/table.png\" style=\"width:700;height:200px;\"> <br>\n",
    "<caption><center>Thus, `dense_2_acc_8: 0.89` means that you are predicting the 7th character of the output correctly 89% of the time in the current batch of data. </center></caption>\n",
    "\n",
    "\n",
    "We have run this model for longer, and saved the weights. Run the next cell to load our weights. (By training a model for several minutes, you should be able to obtain a model of similar accuracy, but loading our model will save you time.) "
   ]
  },
  {
   "cell_type": "code",
   "execution_count": 150,
   "metadata": {
    "collapsed": true
   },
   "outputs": [],
   "source": [
    "#model.load_weights('models/model.h5')"
   ]
  },
  {
   "cell_type": "markdown",
   "metadata": {},
   "source": [
    "You can now see the results on new examples."
   ]
  },
  {
   "cell_type": "code",
   "execution_count": 151,
   "metadata": {},
   "outputs": [
    {
     "name": "stdout",
     "output_type": "stream",
     "text": [
      "source: 3 May 1979\n",
      "output: 1999-09-09\n",
      "source: 5 April 09\n",
      "output: 2004-04-04\n",
      "source: 21th of August 2016\n",
      "output: 2005-07-25\n",
      "source: Tue 10 Jul 2007\n",
      "output: 2007-07-07\n",
      "source: Saturday May 9 2018\n",
      "output: 2003-08-18\n",
      "source: March 3 2001\n",
      "output: 2003-01-13\n",
      "source: March 3rd 2001\n",
      "output: 2003-01-13\n",
      "source: 1 March 2001\n",
      "output: 2001-01-11\n"
     ]
    }
   ],
   "source": [
    "EXAMPLES = ['3 May 1979', '5 April 09', '21th of August 2016', 'Tue 10 Jul 2007', 'Saturday May 9 2018', 'March 3 2001', 'March 3rd 2001', '1 March 2001']\n",
    "for example in EXAMPLES:\n",
    "    \n",
    "    source = string_to_int(example, Tx, human_vocab)\n",
    "    source = np.array(list(map(lambda x: to_categorical(x, num_classes=len(human_vocab)), source))).swapaxes(0,1)\n",
    "    prediction = model.predict([source, s0, c0])\n",
    "    prediction = np.argmax(prediction, axis = -1)\n",
    "    output = [inv_machine_vocab[int(i)] for i in prediction]\n",
    "    \n",
    "    print(\"source:\", example)\n",
    "    print(\"output:\", ''.join(output))"
   ]
  },
  {
   "cell_type": "markdown",
   "metadata": {},
   "source": [
    "You can also change these examples to test with your own examples. The next part will give you a better sense on what the attention mechanism is doing--i.e., what part of the input the network is paying attention to when generating a particular output character. "
   ]
  },
  {
   "cell_type": "markdown",
   "metadata": {},
   "source": [
    "## 3 - Visualizing Attention (Optional / Ungraded)\n",
    "\n",
    "Since the problem has a fixed output length of 10, it is also possible to carry out this task using 10 different softmax units to generate the 10 characters of the output. But one advantage of the attention model is that each part of the output (say the month) knows it needs to depend only on a small part of the input (the characters in the input giving the month). We can  visualize what part of the output is looking at what part of the input.\n",
    "\n",
    "Consider the task of translating \"Saturday 9 May 2018\" to \"2018-05-09\". If we visualize the computed $\\alpha^{\\langle t, t' \\rangle}$ we get this: \n",
    "\n",
    "<img src=\"images/date_attention.png\" style=\"width:600;height:300px;\"> <br>\n",
    "<caption><center> **Figure 8**: Full Attention Map</center></caption>\n",
    "\n",
    "Notice how the output ignores the \"Saturday\" portion of the input. None of the output timesteps are paying much attention to that portion of the input. We see also that 9 has been translated as 09 and May has been correctly translated into 05, with the output paying attention to the parts of the input it needs to to make the translation. The year mostly requires it to pay attention to the input's \"18\" in order to generate \"2018.\" \n",
    "\n"
   ]
  },
  {
   "cell_type": "markdown",
   "metadata": {},
   "source": [
    "### 3.1 - Getting the activations from the network\n",
    "\n",
    "Lets now visualize the attention values in your network. We'll propagate an example through the network, then visualize the values of $\\alpha^{\\langle t, t' \\rangle}$. \n",
    "\n",
    "To figure out where the attention values are located, let's start by printing a summary of the model ."
   ]
  },
  {
   "cell_type": "code",
   "execution_count": 152,
   "metadata": {},
   "outputs": [
    {
     "name": "stdout",
     "output_type": "stream",
     "text": [
      "____________________________________________________________________________________________________\n",
      "Layer (type)                     Output Shape          Param #     Connected to                     \n",
      "====================================================================================================\n",
      "input_11 (InputLayer)            (None, 30, 37)        0                                            \n",
      "____________________________________________________________________________________________________\n",
      "s0 (InputLayer)                  (None, 128)           0                                            \n",
      "____________________________________________________________________________________________________\n",
      "bidirectional_11 (Bidirectional) (None, 30, 128)       52224       input_11[0][0]                   \n",
      "____________________________________________________________________________________________________\n",
      "repeat_vector_8 (RepeatVector)   (None, 30, 128)       0           s0[0][0]                         \n",
      "                                                                   lstm_22[0][0]                    \n",
      "                                                                   lstm_22[1][0]                    \n",
      "                                                                   lstm_22[2][0]                    \n",
      "                                                                   lstm_22[3][0]                    \n",
      "                                                                   lstm_22[4][0]                    \n",
      "                                                                   lstm_22[5][0]                    \n",
      "                                                                   lstm_22[6][0]                    \n",
      "                                                                   lstm_22[7][0]                    \n",
      "                                                                   lstm_22[8][0]                    \n",
      "____________________________________________________________________________________________________\n",
      "concatenate_8 (Concatenate)      (None, 30, 256)       0           bidirectional_11[0][0]           \n",
      "                                                                   repeat_vector_8[0][0]            \n",
      "                                                                   bidirectional_11[0][0]           \n",
      "                                                                   repeat_vector_8[1][0]            \n",
      "                                                                   bidirectional_11[0][0]           \n",
      "                                                                   repeat_vector_8[2][0]            \n",
      "                                                                   bidirectional_11[0][0]           \n",
      "                                                                   repeat_vector_8[3][0]            \n",
      "                                                                   bidirectional_11[0][0]           \n",
      "                                                                   repeat_vector_8[4][0]            \n",
      "                                                                   bidirectional_11[0][0]           \n",
      "                                                                   repeat_vector_8[5][0]            \n",
      "                                                                   bidirectional_11[0][0]           \n",
      "                                                                   repeat_vector_8[6][0]            \n",
      "                                                                   bidirectional_11[0][0]           \n",
      "                                                                   repeat_vector_8[7][0]            \n",
      "                                                                   bidirectional_11[0][0]           \n",
      "                                                                   repeat_vector_8[8][0]            \n",
      "                                                                   bidirectional_11[0][0]           \n",
      "                                                                   repeat_vector_8[9][0]            \n",
      "____________________________________________________________________________________________________\n",
      "dense_26 (Dense)                 (None, 30, 10)        2570        concatenate_8[0][0]              \n",
      "                                                                   concatenate_8[1][0]              \n",
      "                                                                   concatenate_8[2][0]              \n",
      "                                                                   concatenate_8[3][0]              \n",
      "                                                                   concatenate_8[4][0]              \n",
      "                                                                   concatenate_8[5][0]              \n",
      "                                                                   concatenate_8[6][0]              \n",
      "                                                                   concatenate_8[7][0]              \n",
      "                                                                   concatenate_8[8][0]              \n",
      "                                                                   concatenate_8[9][0]              \n",
      "____________________________________________________________________________________________________\n",
      "dense_27 (Dense)                 (None, 30, 1)         11          dense_26[0][0]                   \n",
      "                                                                   dense_26[1][0]                   \n",
      "                                                                   dense_26[2][0]                   \n",
      "                                                                   dense_26[3][0]                   \n",
      "                                                                   dense_26[4][0]                   \n",
      "                                                                   dense_26[5][0]                   \n",
      "                                                                   dense_26[6][0]                   \n",
      "                                                                   dense_26[7][0]                   \n",
      "                                                                   dense_26[8][0]                   \n",
      "                                                                   dense_26[9][0]                   \n",
      "____________________________________________________________________________________________________\n",
      "attention_weights (Activation)   (None, 30, 1)         0           dense_27[0][0]                   \n",
      "                                                                   dense_27[1][0]                   \n",
      "                                                                   dense_27[2][0]                   \n",
      "                                                                   dense_27[3][0]                   \n",
      "                                                                   dense_27[4][0]                   \n",
      "                                                                   dense_27[5][0]                   \n",
      "                                                                   dense_27[6][0]                   \n",
      "                                                                   dense_27[7][0]                   \n",
      "                                                                   dense_27[8][0]                   \n",
      "                                                                   dense_27[9][0]                   \n",
      "____________________________________________________________________________________________________\n",
      "dot_8 (Dot)                      (None, 1, 128)        0           attention_weights[0][0]          \n",
      "                                                                   bidirectional_11[0][0]           \n",
      "                                                                   attention_weights[1][0]          \n",
      "                                                                   bidirectional_11[0][0]           \n",
      "                                                                   attention_weights[2][0]          \n",
      "                                                                   bidirectional_11[0][0]           \n",
      "                                                                   attention_weights[3][0]          \n",
      "                                                                   bidirectional_11[0][0]           \n",
      "                                                                   attention_weights[4][0]          \n",
      "                                                                   bidirectional_11[0][0]           \n",
      "                                                                   attention_weights[5][0]          \n",
      "                                                                   bidirectional_11[0][0]           \n",
      "                                                                   attention_weights[6][0]          \n",
      "                                                                   bidirectional_11[0][0]           \n",
      "                                                                   attention_weights[7][0]          \n",
      "                                                                   bidirectional_11[0][0]           \n",
      "                                                                   attention_weights[8][0]          \n",
      "                                                                   bidirectional_11[0][0]           \n",
      "                                                                   attention_weights[9][0]          \n",
      "                                                                   bidirectional_11[0][0]           \n",
      "____________________________________________________________________________________________________\n",
      "c0 (InputLayer)                  (None, 128)           0                                            \n",
      "____________________________________________________________________________________________________\n",
      "lstm_22 (LSTM)                   [(None, 128), (None,  131584      dot_8[0][0]                      \n",
      "                                                                   s0[0][0]                         \n",
      "                                                                   c0[0][0]                         \n",
      "                                                                   dot_8[1][0]                      \n",
      "                                                                   s0[0][0]                         \n",
      "                                                                   c0[0][0]                         \n",
      "                                                                   dot_8[2][0]                      \n",
      "                                                                   s0[0][0]                         \n",
      "                                                                   c0[0][0]                         \n",
      "                                                                   dot_8[3][0]                      \n",
      "                                                                   s0[0][0]                         \n",
      "                                                                   c0[0][0]                         \n",
      "                                                                   dot_8[4][0]                      \n",
      "                                                                   s0[0][0]                         \n",
      "                                                                   c0[0][0]                         \n",
      "                                                                   dot_8[5][0]                      \n",
      "                                                                   s0[0][0]                         \n",
      "                                                                   c0[0][0]                         \n",
      "                                                                   dot_8[6][0]                      \n",
      "                                                                   s0[0][0]                         \n",
      "                                                                   c0[0][0]                         \n",
      "                                                                   dot_8[7][0]                      \n",
      "                                                                   s0[0][0]                         \n",
      "                                                                   c0[0][0]                         \n",
      "                                                                   dot_8[8][0]                      \n",
      "                                                                   s0[0][0]                         \n",
      "                                                                   c0[0][0]                         \n",
      "                                                                   dot_8[9][0]                      \n",
      "                                                                   s0[0][0]                         \n",
      "                                                                   c0[0][0]                         \n",
      "____________________________________________________________________________________________________\n",
      "dense_28 (Dense)                 (None, 11)            1419        lstm_22[0][0]                    \n",
      "                                                                   lstm_22[1][0]                    \n",
      "                                                                   lstm_22[2][0]                    \n",
      "                                                                   lstm_22[3][0]                    \n",
      "                                                                   lstm_22[4][0]                    \n",
      "                                                                   lstm_22[5][0]                    \n",
      "                                                                   lstm_22[6][0]                    \n",
      "                                                                   lstm_22[7][0]                    \n",
      "                                                                   lstm_22[8][0]                    \n",
      "                                                                   lstm_22[9][0]                    \n",
      "====================================================================================================\n",
      "Total params: 187,808\n",
      "Trainable params: 187,808\n",
      "Non-trainable params: 0\n",
      "____________________________________________________________________________________________________\n"
     ]
    }
   ],
   "source": [
    "model.summary()"
   ]
  },
  {
   "cell_type": "markdown",
   "metadata": {},
   "source": [
    "Navigate through the output of `model.summary()` above. You can see that the layer named `attention_weights` outputs the `alphas` of shape (m, 30, 1) before `dot_2` computes the context vector for every time step $t = 0, \\ldots, T_y-1$. Lets get the activations from this layer.\n",
    "\n",
    "The function `attention_map()` pulls out the attention values from your model and plots them."
   ]
  },
  {
   "cell_type": "code",
   "execution_count": 153,
   "metadata": {
    "scrolled": false
   },
   "outputs": [
    {
     "data": {
      "text/plain": [
       "<matplotlib.figure.Figure at 0x7f083c44d470>"
      ]
     },
     "metadata": {},
     "output_type": "display_data"
    },
    {
     "data": {
      "image/png": "[encoded data removed]",
      "text/plain": [
       "<matplotlib.figure.Figure at 0x7f083c44d550>"
      ]
     },
     "metadata": {},
     "output_type": "display_data"
    }
   ],
   "source": [
    "attention_map = plot_attention_map(model, human_vocab, inv_machine_vocab, \"Tuesday 09 Oct 1993\", num = 6, n_s = 128)"
   ]
  },
  {
   "cell_type": "markdown",
   "metadata": {},
   "source": [
    "On the generated plot you can observe the values of the attention weights for each character of the predicted output. Examine this plot and check that where the network is paying attention makes sense to you.\n",
    "\n",
    "In the date translation application, you will observe that most of the time attention helps predict the year, and hasn't much impact on predicting the day/month."
   ]
  },
  {
   "cell_type": "markdown",
   "metadata": {},
   "source": [
    "\n",
    "\n",
    "<font color='blue'> **Here's what you should remember from this notebook**:\n",
    "\n",
    "- Machine translation models can be used to map from one sequence to another. They are useful not just for translating human languages (like French->English) but also for tasks like date format translation. \n",
    "- An attention mechanism allows a network to focus on the most relevant parts of the input when producing a specific part of the output. \n",
    "- A network using an attention mechanism can translate from inputs of length $T_x$ to outputs of length $T_y$, where $T_x$ and $T_y$ can be different. \n",
    "- You can visualize attention weights $\\alpha^{\\langle t,t' \\rangle}$ to see what the network is paying attention to while generating each output."
   ]
  }
 ],
 "metadata": {
  "coursera": {
   "course_slug": "nlp-sequence-models",
   "graded_item_id": "n16CQ",
   "launcher_item_id": "npjGi"
  },
  "kernelspec": {
   "display_name": "Python 3",
   "language": "python",
   "name": "python3"
  },
  "language_info": {
   "codemirror_mode": {
    "name": "ipython",
    "version": 3
   },
   "file_extension": ".py",
   "mimetype": "text/x-python",
   "name": "python",
   "nbconvert_exporter": "python",
   "pygments_lexer": "ipython3",
   "version": "3.6.0"
  }
 },
 "nbformat": 4,
 "nbformat_minor": 2
}
